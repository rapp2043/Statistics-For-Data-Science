{
  "nbformat": 4,
  "nbformat_minor": 0,
  "metadata": {
    "colab": {
      "provenance": [],
      "toc_visible": true,
      "authorship_tag": "ABX9TyNutcHHHP6rDaQafMWHYQnj",
      "include_colab_link": true
    },
    "kernelspec": {
      "name": "python3",
      "display_name": "Python 3"
    },
    "language_info": {
      "name": "python"
    }
  },
  "cells": [
    {
      "cell_type": "markdown",
      "metadata": {
        "id": "view-in-github",
        "colab_type": "text"
      },
      "source": [
        "<a href=\"https://colab.research.google.com/github/rapp2043/Statistics-For-Data-Science/blob/main/statistics_for_DS.ipynb\" target=\"_parent\"><img src=\"https://colab.research.google.com/assets/colab-badge.svg\" alt=\"Open In Colab\"/></a>"
      ]
    },
    {
      "cell_type": "code",
      "source": [
        "import pandas as pd\n",
        "import numpy as np\n",
        "import seaborn as sns\n",
        "import matplotlib.pyplot as plt\n",
        "%matplotlib inline"
      ],
      "metadata": {
        "id": "m-Zzr23YwXkG"
      },
      "execution_count": null,
      "outputs": []
    },
    {
      "cell_type": "code",
      "source": [
        "df = pd.DataFrame({'movie':['a', 'b', 'c', 'a', 'b', 'c', 'a', 'b', 'c'], 'rating':[9,7,6,9,5,7,8,9,5]})"
      ],
      "metadata": {
        "id": "WfyF7SBpwr3i"
      },
      "execution_count": null,
      "outputs": []
    },
    {
      "cell_type": "code",
      "source": [
        "df.mean()"
      ],
      "metadata": {
        "colab": {
          "base_uri": "https://localhost:8080/"
        },
        "id": "E8pkQ3sTxud4",
        "outputId": "f83eb3a9-6510-4234-f087-8ffbe009f5ba"
      },
      "execution_count": null,
      "outputs": [
        {
          "output_type": "stream",
          "name": "stderr",
          "text": [
            "<ipython-input-5-c61f0c8f89b5>:1: FutureWarning: The default value of numeric_only in DataFrame.mean is deprecated. In a future version, it will default to False. In addition, specifying 'numeric_only=None' is deprecated. Select only valid columns or specify the value of numeric_only to silence this warning.\n",
            "  df.mean()\n"
          ]
        },
        {
          "output_type": "execute_result",
          "data": {
            "text/plain": [
              "rating    7.222222\n",
              "dtype: float64"
            ]
          },
          "metadata": {},
          "execution_count": 5
        }
      ]
    },
    {
      "cell_type": "code",
      "source": [
        "df.rating.mean()"
      ],
      "metadata": {
        "colab": {
          "base_uri": "https://localhost:8080/"
        },
        "id": "Ru2dhQ04x5Wn",
        "outputId": "23a51f16-5f79-4e8b-ea78-e62412dc8855"
      },
      "execution_count": null,
      "outputs": [
        {
          "output_type": "execute_result",
          "data": {
            "text/plain": [
              "7.222222222222222"
            ]
          },
          "metadata": {},
          "execution_count": 6
        }
      ]
    },
    {
      "cell_type": "code",
      "source": [
        "sns.displot(df, kde=True, rug=True)\n",
        "plt.axvline(np.mean(df.rating), color='r', linestyle='-')\n",
        "plt.axvline(np.median(df.rating), color='g', linestyle='-')\n",
        "plt.axvline(df.rating.mode().values[0], color='y', linestyle='-')\n"
      ],
      "metadata": {
        "colab": {
          "base_uri": "https://localhost:8080/",
          "height": 523
        },
        "id": "JazZrcbwx8CJ",
        "outputId": "c506b7bf-69e9-4380-cca6-6872d1be74f7"
      },
      "execution_count": null,
      "outputs": [
        {
          "output_type": "execute_result",
          "data": {
            "text/plain": [
              "<matplotlib.lines.Line2D at 0x7eae639c4370>"
            ]
          },
          "metadata": {},
          "execution_count": 11
        },
        {
          "output_type": "display_data",
          "data": {
            "text/plain": [
              "<Figure size 591.375x500 with 1 Axes>"
            ],
            "image/png": "[encoded data removed]"
          },
          "metadata": {}
        }
      ]
    },
    {
      "cell_type": "code",
      "source": [
        "f, (ax_box, ax_hist) = plt.subplots(2, sharex=True,\n",
        "                                    gridspec_kw={'height_ratios':(0.2,1,)})\n",
        "mean = np.mean(df.rating)\n",
        "median = np.median(df.rating)\n",
        "mode = df.rating.mode().values[0]\n",
        "\n",
        "sns.boxplot(data=df, x='rating', ax=ax_box)\n",
        "ax_box.axvline(mean, color='r', linestyle ='-')\n",
        "ax_box.axvline(median, color='g', linestyle ='-')\n",
        "ax_box.axvline(mean, color='b', linestyle ='-')\n",
        "\n",
        "sns.histplot(data=df, x='rating', ax=ax_hist, kde=True)\n",
        "ax_hist.axvline(mean, color='r', linestyle='-', label='Mean')\n",
        "ax_hist.axvline(median, color='g', linestyle='-', label='Median')\n",
        "ax_hist.axvline(mode, color='b', linestyle='-', label='Mode')\n",
        "\n",
        "ax_hist.legend()\n",
        "ax_box.set(xlabel='')\n",
        "plt.show()"
      ],
      "metadata": {
        "colab": {
          "base_uri": "https://localhost:8080/",
          "height": 449
        },
        "id": "Bjl3EraJy4YC",
        "outputId": "f612bacd-f0fb-49c2-85cf-3fdfca8025b1"
      },
      "execution_count": null,
      "outputs": [
        {
          "output_type": "display_data",
          "data": {
            "text/plain": [
              "<Figure size 640x480 with 2 Axes>"
            ],
            "image/png": "[encoded data removed]"
          },
          "metadata": {}
        }
      ]
    },
    {
      "cell_type": "code",
      "source": [
        "df.rating.var()"
      ],
      "metadata": {
        "colab": {
          "base_uri": "https://localhost:8080/"
        },
        "id": "6rRPq7qb20IH",
        "outputId": "0567c04f-a22b-407f-a51b-d538f7fd58db"
      },
      "execution_count": null,
      "outputs": [
        {
          "output_type": "execute_result",
          "data": {
            "text/plain": [
              "2.6944444444444446"
            ]
          },
          "metadata": {},
          "execution_count": 19
        }
      ]
    },
    {
      "cell_type": "code",
      "source": [
        "df.rating.std()"
      ],
      "metadata": {
        "colab": {
          "base_uri": "https://localhost:8080/"
        },
        "id": "O-_447Om2_ws",
        "outputId": "c4075846-d414-499a-dd9c-0d7d49da8a20"
      },
      "execution_count": null,
      "outputs": [
        {
          "output_type": "execute_result",
          "data": {
            "text/plain": [
              "1.6414763002993509"
            ]
          },
          "metadata": {},
          "execution_count": 20
        }
      ]
    },
    {
      "cell_type": "code",
      "source": [
        "mean = df.groupby(['movie'])['rating'].mean()\n",
        "std = df.groupby(['movie'])['rating'].std()\n",
        "\n",
        "mean"
      ],
      "metadata": {
        "colab": {
          "base_uri": "https://localhost:8080/"
        },
        "id": "5d_8dmMH3DKF",
        "outputId": "5d4a9352-a2ba-4031-8630-2fc8c33fa4ad"
      },
      "execution_count": null,
      "outputs": [
        {
          "output_type": "execute_result",
          "data": {
            "text/plain": [
              "movie\n",
              "a    8.666667\n",
              "b    7.000000\n",
              "c    6.000000\n",
              "Name: rating, dtype: float64"
            ]
          },
          "metadata": {},
          "execution_count": 22
        }
      ]
    },
    {
      "cell_type": "code",
      "source": [
        "std"
      ],
      "metadata": {
        "colab": {
          "base_uri": "https://localhost:8080/"
        },
        "id": "YtePwaNA3W1D",
        "outputId": "0df6cb75-58a8-4279-f6a0-8a98581cd436"
      },
      "execution_count": null,
      "outputs": [
        {
          "output_type": "execute_result",
          "data": {
            "text/plain": [
              "movie\n",
              "a    0.57735\n",
              "b    2.00000\n",
              "c    1.00000\n",
              "Name: rating, dtype: float64"
            ]
          },
          "metadata": {},
          "execution_count": 23
        }
      ]
    },
    {
      "cell_type": "code",
      "source": [
        "fig, ax = plt.subplots()\n",
        "mean.plot.bar(yerr=std, ax=ax, capsize=4)"
      ],
      "metadata": {
        "colab": {
          "base_uri": "https://localhost:8080/",
          "height": 461
        },
        "id": "W0UKp3vp3deV",
        "outputId": "db579c3d-bc4f-4d7b-feb7-2ab227671138"
      },
      "execution_count": null,
      "outputs": [
        {
          "output_type": "execute_result",
          "data": {
            "text/plain": [
              "<Axes: xlabel='movie'>"
            ]
          },
          "metadata": {},
          "execution_count": 25
        },
        {
          "output_type": "display_data",
          "data": {
            "text/plain": [
              "<Figure size 640x480 with 1 Axes>"
            ],
            "image/png": "[encoded data removed]"
          },
          "metadata": {}
        }
      ]
    },
    {
      "cell_type": "code",
      "source": [],
      "metadata": {
        "id": "HCI3ERFC3pf6"
      },
      "execution_count": null,
      "outputs": []
    }
  ]
}